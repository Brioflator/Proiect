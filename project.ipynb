{
 "cells": [
  {
   "cell_type": "markdown",
   "metadata": {},
   "source": [
    "Finding out the headers"
   ]
  },
  {
   "cell_type": "code",
   "execution_count": 4,
   "metadata": {},
   "outputs": [
    {
     "name": "stdout",
     "output_type": "stream",
     "text": [
      "P6 400 433 255 602a4a8fff652291fdc0e049e3900dae608af64e5e4d2c5d4332603c9938171d\n",
      "P6 465 464 255 372df01b994c2b14969592fd2e78d27e7ee472a07c7ac3dfdf41d345b2f8e305\n",
      "P6 512 512 255 aa105295e25e11c8c42e4393c008428d965d42c6cb1b906e30be99f94f473bb5\n",
      "P6 513 613 255 456ae6a020aa2d54c0c00a71d63033f6c7ca6cbc1424507668cf54b80325dc01\n",
      "P6 525 489 255 70f87d0b880efcdbe159011126db397a1231966991ae9252b278623aeb9c0450\n",
      "P6 559 530 255 f40e838809ddaa770428a4b2adc1fff0c38a84abe496940d534af1232c2467d5\n",
      "P6 585 577 255 77a39d581d3d469084686c90ba08a5fb6ce621a552155730019f6c02cb4c0cb6\n",
      "P6 598 605 255 bd0fd461d87fba0d5e61bed6a399acdfc92b12769f9b3178f9752e30f1aeb81d\n",
      "['P6 400 433 255', 'P6 465 464 255', 'P6 512 512 255', 'P6 513 613 255', 'P6 525 489 255', 'P6 559 530 255', 'P6 585 577 255', 'P6 598 605 255']\n"
     ]
    }
   ],
   "source": [
    "import hashlib\n",
    "hash_values = [\n",
    "    \"602a4a8fff652291fdc0e049e3900dae608af64e5e4d2c5d4332603c9938171d\",\n",
    "    \"f40e838809ddaa770428a4b2adc1fff0c38a84abe496940d534af1232c2467d5\",\n",
    "    \"aa105295e25e11c8c42e4393c008428d965d42c6cb1b906e30be99f94f473bb5\",\n",
    "    \"70f87d0b880efcdbe159011126db397a1231966991ae9252b278623aeb9c0450\",\n",
    "    \"77a39d581d3d469084686c90ba08a5fb6ce621a552155730019f6c02cb4c0cb6\",\n",
    "    \"456ae6a020aa2d54c0c00a71d63033f6c7ca6cbc1424507668cf54b80325dc01\",\n",
    "    \"bd0fd461d87fba0d5e61bed6a399acdfc92b12769f9b3178f9752e30f1aeb81d\",\n",
    "    \"372df01b994c2b14969592fd2e78d27e7ee472a07c7ac3dfdf41d345b2f8e305\"\n",
    "]\n",
    "\n",
    "headers = []\n",
    "\n",
    "for i in range(999):\n",
    "    for j in range(999):\n",
    "        heading = f\"P6 {i} {j} 255\"\n",
    "        sha256 = hashlib.sha256()\n",
    "        sha256.update(heading.encode('utf-8'))\n",
    "        hash_value = sha256.hexdigest()\n",
    "        if hash_value in hash_values:\n",
    "            headers.append(heading)\n",
    "            print(heading, hash_value)\n",
    "\n",
    "print(headers)\n",
    "            "
   ]
  },
  {
   "cell_type": "markdown",
   "metadata": {},
   "source": [
    "Adding the header in the ppm file"
   ]
  },
  {
   "cell_type": "code",
   "execution_count": 17,
   "metadata": {},
   "outputs": [],
   "source": [
    "for i in range(1, 9):\n",
    "    with open('encrypted_files/File{}_encr.ppm'.format(i), 'rb') as f:\n",
    "        data = f.read()\n",
    "    \n",
    "    header_index = 0\n",
    "    for header in headers:\n",
    "        data_with_header = header.encode('utf-8') + b'\\n' + data\n",
    "        header_index += 1\n",
    "        with open('./decrypted_files/output{}_{}.ppm'.format(i, header_index), 'wb') as f:\n",
    "            f.write(data_with_header)\n"
   ]
  },
  {
   "cell_type": "markdown",
   "metadata": {},
   "source": [
    "converting the images to jpg to see them"
   ]
  },
  {
   "cell_type": "code",
   "execution_count": 18,
   "metadata": {},
   "outputs": [],
   "source": [
    "import os\n",
    "from PIL import Image, ImageFile\n",
    "\n",
    "ImageFile.LOAD_TRUNCATED_IMAGES = True  # Ignore errors in corrupted image files\n",
    "\n",
    "# Get all decrypted files in the directory\n",
    "files = [f for f in os.listdir('decrypted_files') if f.endswith('.ppm')]\n",
    "\n",
    "# Loop through each file\n",
    "for file in files:\n",
    "    img = Image.open(os.path.join('decrypted_files', file))\n",
    "\n",
    "    img.save(os.path.join('images', file.replace('.ppm', '.jpg')))"
   ]
  },
  {
   "cell_type": "markdown",
   "metadata": {},
   "source": [
    "Second exercise"
   ]
  },
  {
   "cell_type": "markdown",
   "metadata": {},
   "source": [
    "transform to ppm"
   ]
  },
  {
   "cell_type": "code",
   "execution_count": 53,
   "metadata": {},
   "outputs": [],
   "source": [
    "from PIL import Image\n",
    "\n",
    "img = Image.open(\"./Ex2/Name.jpg\")\n",
    "\n",
    "img.save('./Ex2/Name.ppm')\n"
   ]
  },
  {
   "cell_type": "markdown",
   "metadata": {},
   "source": [
    "transform header to sha-256:"
   ]
  },
  {
   "cell_type": "code",
   "execution_count": 29,
   "metadata": {},
   "outputs": [
    {
     "ename": "NameError",
     "evalue": "name 'heading' is not defined",
     "output_type": "error",
     "traceback": [
      "\u001b[1;31m---------------------------------------------------------------------------\u001b[0m",
      "\u001b[1;31mNameError\u001b[0m                                 Traceback (most recent call last)",
      "Cell \u001b[1;32mIn[29], line 8\u001b[0m\n\u001b[0;32m      6\u001b[0m sha256 \u001b[38;5;241m=\u001b[39m hashlib\u001b[38;5;241m.\u001b[39msha256()\n\u001b[0;32m      7\u001b[0m \u001b[38;5;66;03m# Update the hash object with the header\u001b[39;00m\n\u001b[1;32m----> 8\u001b[0m sha256\u001b[38;5;241m.\u001b[39mupdate(\u001b[43mheading\u001b[49m\u001b[38;5;241m.\u001b[39mencode(\u001b[38;5;124m'\u001b[39m\u001b[38;5;124mutf-8\u001b[39m\u001b[38;5;124m'\u001b[39m))\n\u001b[0;32m      9\u001b[0m \u001b[38;5;66;03m# Get the hex digest of the hash\u001b[39;00m\n\u001b[0;32m     10\u001b[0m hash_value \u001b[38;5;241m=\u001b[39m sha256\u001b[38;5;241m.\u001b[39mhexdigest()\n",
      "\u001b[1;31mNameError\u001b[0m: name 'heading' is not defined"
     ]
    }
   ],
   "source": [
    "import hashlib\n",
    "\n",
    "heading = \"P6 596 596 255\"\n",
    "\n",
    "# Create a sha256 hash object\n",
    "sha256 = hashlib.sha256()\n",
    "# Update the hash object with the header\n",
    "sha256.update(heading.encode('utf-8'))\n",
    "# Get the hex digest of the hash\n",
    "hash_value = sha256.hexdigest()\n",
    "\n",
    "print(hash_value)\n",
    "\n"
   ]
  },
  {
   "cell_type": "code",
   "execution_count": null,
   "metadata": {},
   "outputs": [],
   "source": [
    "hash = \"bd092306a6ed2ca9630675a71648b23c07839bfc5070587a81cbc49bc677c216\"\n"
   ]
  },
  {
   "cell_type": "code",
   "execution_count": 54,
   "metadata": {},
   "outputs": [],
   "source": [
    "def remove_ppm_header(input_file_path, output_file_path):\n",
    "    with open(input_file_path, 'rb') as f:\n",
    "        # Read the PPM file\n",
    "        ppm_data = f.read()\n",
    "\n",
    "        # Find the index of the first occurrence of b'\\n' (newline character)\n",
    "        # This marks the end of the header and the beginning of pixel data\n",
    "        header_end_index = ppm_data.index(b'\\n') + 1\n",
    "\n",
    "        # Extract the pixel data (excluding the header)\n",
    "        pixel_data = ppm_data[header_end_index:]\n",
    "\n",
    "    # Write the pixel data to a new file\n",
    "    with open(output_file_path, 'wb') as f:\n",
    "        f.write(pixel_data)\n",
    "\n",
    "# Example usage\n",
    "input_file_path = './Ex2/Name.ppm'\n",
    "output_file_path = './Ex2/Name_no_header.ppm'\n",
    "\n",
    "remove_ppm_header(input_file_path, output_file_path)\n"
   ]
  },
  {
   "cell_type": "code",
   "execution_count": 55,
   "metadata": {},
   "outputs": [],
   "source": [
    "from Crypto.Cipher import AES\n",
    "from Crypto.Util.Padding import pad, unpad\n",
    "from Crypto.Random import get_random_bytes\n",
    "\n",
    "# Generate a key\n",
    "key = get_random_bytes(16)\n",
    "\n",
    "# Create a new AES cipher object in ECB mode\n",
    "cipher = AES.new(key, AES.MODE_ECB)\n",
    "\n",
    "# Read the file as binary\n",
    "with open('./Ex2/Name_no_header.ppm', 'rb') as f:\n",
    "    data = f.read()\n",
    "\n",
    "# Encrypt the data\n",
    "encrypted_data = cipher.encrypt(pad(data, AES.block_size))\n",
    "\n",
    "# Write the encrypted data to a new file\n",
    "with open('./Ex2/Name_encrypted.ppm', 'wb') as f:\n",
    "    f.write(encrypted_data)\n",
    "\n",
    "# Create a new AES cipher object in ECB mode for decryption\n",
    "cipher_decrypt = AES.new(key, AES.MODE_ECB)\n",
    "\n",
    "# Read the encrypted file as binary\n",
    "with open('./Ex2/Name_encrypted.ppm', 'rb') as f:\n",
    "    encrypted_data = f.read()\n",
    "\n",
    "# Decrypt the data and unpad\n",
    "decrypted_data = unpad(cipher_decrypt.decrypt(encrypted_data), AES.block_size)\n",
    "\n",
    "# Write the decrypted data to a new file\n",
    "with open('./Ex2/Name_decrypted.ppm', 'wb') as f:\n",
    "    f.write(decrypted_data)\n"
   ]
  },
  {
   "cell_type": "code",
   "execution_count": 56,
   "metadata": {},
   "outputs": [],
   "source": [
    "header = \"P6\\n596 596\\n255\"\n",
    "with open('./Ex2/Name_decrypted.ppm', 'rb') as f:\n",
    "        data = f.read()\n",
    "\n",
    "data_with_header = header.encode('utf-8') + b'\\n' + data\n",
    "with open('./Ex2/Name_decrypted_with_header.ppm', 'wb') as f:\n",
    "        f.write(data_with_header)"
   ]
  },
  {
   "cell_type": "code",
   "execution_count": 57,
   "metadata": {},
   "outputs": [],
   "source": [
    "from PIL import Image\n",
    "\n",
    "img = Image.open(\"./Ex2/Name_decrypted_with_header.ppm\")\n",
    "\n",
    "img.save('./Ex2/Name_decrypted.jpg')"
   ]
  },
  {
   "cell_type": "code",
   "execution_count": null,
   "metadata": {},
   "outputs": [],
   "source": [
    "def add_ppm_header(pixel_data, width, height, max_color_value=255):\n",
    "    header = f'P6\\n{width} {height}\\n{max_color_value}\\n'\n",
    "    return header.encode() + pixel_data\n",
    "\n",
    "def save_ppm_file(output_file_path, width, height, pixel_data):\n",
    "    with open(output_file_path, 'wb') as f:\n",
    "        f.write(pixel_data)\n",
    "\n",
    "# Example usage\n",
    "input_pixel_data_path = './Ex2/Name_encrypted.ppm'\n",
    "output_file_path = './Ex2/Name_encrypted_with_header.ppm'\n",
    "\n",
    "with open(input_pixel_data_path, 'rb') as f:\n",
    "    pixel_data = f.read()\n",
    "\n",
    "width = 596 \n",
    "height = 596 \n",
    "\n",
    "ppm_data_with_header = add_ppm_header(pixel_data, width, height)\n",
    "save_ppm_file(output_file_path, width, height, ppm_data_with_header)\n"
   ]
  }
 ],
 "metadata": {
  "kernelspec": {
   "display_name": "pyEnvRL",
   "language": "python",
   "name": "python3"
  },
  "language_info": {
   "codemirror_mode": {
    "name": "ipython",
    "version": 3
   },
   "file_extension": ".py",
   "mimetype": "text/x-python",
   "name": "python",
   "nbconvert_exporter": "python",
   "pygments_lexer": "ipython3",
   "version": "3.12.0"
  }
 },
 "nbformat": 4,
 "nbformat_minor": 2
}
